{
 "cells": [
  {
   "cell_type": "markdown",
   "metadata": {},
   "source": [
    "# Imports"
   ]
  },
  {
   "cell_type": "code",
   "execution_count": 1,
   "metadata": {},
   "outputs": [
    {
     "name": "stderr",
     "output_type": "stream",
     "text": [
      "Using TensorFlow backend.\n"
     ]
    }
   ],
   "source": [
    "# -*- coding: utf-8 -*-\n",
    "\n",
    "from helpers.read_jafee import read_samples_jafee\n",
    "from helpers.read_ck import read_samples_ck\n",
    "\n",
    "import cv2\n",
    "import dlib\n",
    "from imutils import face_utils\n",
    "\n",
    "from keras.callbacks import ModelCheckpoint\n",
    "from keras.layers.convolutional import Conv2D\n",
    "from keras.layers.convolutional import MaxPooling2D\n",
    "from keras.layers.core import Activation\n",
    "from keras.layers.core import Flatten\n",
    "from keras.layers.core import Dense\n",
    "from keras.layers.core import Dropout\n",
    "from keras.layers.normalization import BatchNormalization\n",
    "from keras.models import Sequential\n",
    "from keras.preprocessing.image import ImageDataGenerator, load_img, img_to_array, array_to_img\n",
    "from keras.optimizers import SGD\n",
    "from keras.utils.np_utils import to_categorical\n",
    "\n",
    "import matplotlib.pyplot as plt\n",
    "import numpy as np\n",
    "import pandas as pd\n",
    "\n",
    "from sklearn.model_selection import StratifiedShuffleSplit\n",
    "from sklearn.model_selection import train_test_split"
   ]
  },
  {
   "cell_type": "markdown",
   "metadata": {},
   "source": [
    "# Funções"
   ]
  },
  {
   "cell_type": "code",
   "execution_count": 2,
   "metadata": {},
   "outputs": [],
   "source": [
    "def get_faces(files):\n",
    "    faces = []\n",
    "    \n",
    "    for file in files:\n",
    "        image = cv2.imread(file, 0)\n",
    "        image = cv2.GaussianBlur(image, (3, 3), 0)\n",
    "\n",
    "        rects = detector(image, 1)\n",
    "\n",
    "        if len(rects) != 1:\n",
    "            raise ValueError('Número de faces detectadas foi incorreta para a '\n",
    "                             'imagem {}'.format(file))\n",
    "\n",
    "        (x, y, w, h) = face_utils.rect_to_bb(rects[0])\n",
    "        face = image[y:y+h, x:x+w]\n",
    "        face = cv2.resize(face, (180, 180))\n",
    "        \n",
    "        face_array = img_to_array(face)\n",
    "\n",
    "        faces.append(face_array)\n",
    "    \n",
    "    return np.asarray(faces)"
   ]
  },
  {
   "cell_type": "code",
   "execution_count": 3,
   "metadata": {},
   "outputs": [],
   "source": [
    "def read_files(files):\n",
    "    faces = []\n",
    "    \n",
    "    for file in files:\n",
    "        image = cv2.imread(file, 0)\n",
    "        image = cv2.GaussianBlur(image, (3, 3), 0)\n",
    "        \n",
    "        face = cv2.resize(image, (180, 180))\n",
    "        face_array = img_to_array(face)\n",
    "\n",
    "        faces.append(face_array)\n",
    "    \n",
    "    return np.asarray(faces)"
   ]
  },
  {
   "cell_type": "markdown",
   "metadata": {},
   "source": [
    "# Código"
   ]
  },
  {
   "cell_type": "code",
   "execution_count": 4,
   "metadata": {},
   "outputs": [],
   "source": [
    "num_classes = 7\n",
    "batch_size = 9\n",
    "get_face_region = False\n",
    "\n",
    "detector = dlib.get_frontal_face_detector()"
   ]
  },
  {
   "cell_type": "markdown",
   "metadata": {},
   "source": [
    "## Samples"
   ]
  },
  {
   "cell_type": "code",
   "execution_count": 5,
   "metadata": {},
   "outputs": [],
   "source": [
    "paths_jaff, labels_jaff = read_samples_jafee()\n",
    "paths_ck, labels_ck = read_samples_ck()"
   ]
  },
  {
   "cell_type": "code",
   "execution_count": 6,
   "metadata": {},
   "outputs": [],
   "source": [
    "paths = paths_jaff + paths_ck\n",
    "labels = labels_jaff + labels_ck"
   ]
  },
  {
   "cell_type": "code",
   "execution_count": 7,
   "metadata": {},
   "outputs": [],
   "source": [
    "paths = np.asarray(paths)\n",
    "labels = np.asarray(labels)\n",
    "sss = StratifiedShuffleSplit(n_splits=1, test_size=0.3, random_state=0)\n",
    "for train_index, test_index in sss.split(paths, labels):\n",
    "    X_train, X_test = paths[train_index], paths[test_index]\n",
    "    y_train, y_test = labels[train_index], labels[test_index]"
   ]
  },
  {
   "cell_type": "code",
   "execution_count": 8,
   "metadata": {},
   "outputs": [],
   "source": [
    "X_test = X_test[:-4]\n",
    "y_test = y_test[:-4]"
   ]
  },
  {
   "cell_type": "code",
   "execution_count": 9,
   "metadata": {},
   "outputs": [
    {
     "data": {
      "text/plain": [
       "(639, 270)"
      ]
     },
     "execution_count": 9,
     "metadata": {},
     "output_type": "execute_result"
    }
   ],
   "source": [
    "len(X_train), len(X_test)"
   ]
  },
  {
   "cell_type": "markdown",
   "metadata": {},
   "source": [
    "### Normalizar labels"
   ]
  },
  {
   "cell_type": "code",
   "execution_count": 10,
   "metadata": {},
   "outputs": [],
   "source": [
    "y_train = to_categorical(y_train, num_classes)\n",
    "y_test = to_categorical(y_test, num_classes)"
   ]
  },
  {
   "cell_type": "markdown",
   "metadata": {},
   "source": [
    "### Capturar regiões da face"
   ]
  },
  {
   "cell_type": "code",
   "execution_count": 11,
   "metadata": {},
   "outputs": [],
   "source": [
    "if get_face_region:\n",
    "    X_train = get_faces(X_train)\n",
    "    X_test = get_faces(X_test)\n",
    "else:\n",
    "    X_train = read_files(X_train)\n",
    "    X_test = read_files(X_test)"
   ]
  },
  {
   "cell_type": "code",
   "execution_count": 12,
   "metadata": {},
   "outputs": [],
   "source": [
    "x_train = X_train.reshape(X_train.shape[0], 180, 180, 1)\n",
    "x_test = X_test.reshape(X_test.shape[0], 180, 180, 1)"
   ]
  },
  {
   "cell_type": "code",
   "execution_count": 13,
   "metadata": {},
   "outputs": [],
   "source": [
    "x_train = x_train.astype('float32')\n",
    "x_test = x_test.astype('float32')"
   ]
  },
  {
   "cell_type": "markdown",
   "metadata": {},
   "source": [
    "### Image Data Generator"
   ]
  },
  {
   "cell_type": "code",
   "execution_count": 14,
   "metadata": {},
   "outputs": [],
   "source": [
    "datagen = ImageDataGenerator(width_shift_range=0.1,\n",
    "                             height_shift_range=0.1,\n",
    "                             shear_range=0.2,\n",
    "                             rotation_range=20,\n",
    "                             vertical_flip=True,\n",
    "                             validation_split=0.2,\n",
    "                             featurewise_std_normalization=True,\n",
    "                             fill_mode='nearest')\n",
    "\n",
    "datagen.fit(x_train)"
   ]
  },
  {
   "cell_type": "code",
   "execution_count": 15,
   "metadata": {},
   "outputs": [
    {
     "data": {
      "image/png": "[encoded data removed]",
      "text/plain": [
       "<Figure size 432x288 with 9 Axes>"
      ]
     },
     "metadata": {
      "needs_background": "light"
     },
     "output_type": "display_data"
    }
   ],
   "source": [
    "for X_batch, y_batch in datagen.flow(x_train, y_train, batch_size=batch_size):\n",
    "    # create a grid of 3x3 images\n",
    "    for i in range(0, 9):\n",
    "        plt.subplot(330 + 1 + i)\n",
    "        plt.imshow(X_batch[i].reshape(180, 180), cmap=plt.get_cmap('gray'))\n",
    "    # show the plot\n",
    "    plt.show()\n",
    "    break"
   ]
  },
  {
   "cell_type": "code",
   "execution_count": 16,
   "metadata": {},
   "outputs": [],
   "source": [
    "x_train_batch = datagen.flow(x=x_train, y=y_train, batch_size=batch_size,\n",
    "                             subset='training')\n",
    "x_valit_batch = datagen.flow(x=x_train, y=y_train, batch_size=batch_size,\n",
    "                             subset='validation')\n",
    "\n",
    "stepsPerEpoche = len(x_train_batch)/batch_size\n",
    "validationSteps = len(x_valit_batch)/batch_size"
   ]
  },
  {
   "cell_type": "markdown",
   "metadata": {},
   "source": [
    "## Modelo"
   ]
  },
  {
   "cell_type": "markdown",
   "metadata": {},
   "source": [
    "### MiniVGG"
   ]
  },
  {
   "cell_type": "code",
   "execution_count": 17,
   "metadata": {},
   "outputs": [],
   "source": [
    "def build_MiniVGG(width, height, depth, classes):\n",
    "  # initialize the model\n",
    "    model = Sequential()\n",
    "    inputShape = (height, width, depth)# first CONV => RELU => CONV => RELU => POOL layer set\n",
    "    model.add(Conv2D(32, (3, 3), padding=\"same\",\n",
    "    input_shape=inputShape))\n",
    "    model.add(Activation(\"relu\"))\n",
    "    model.add(BatchNormalization(axis=2))\n",
    "    model.add(Conv2D(32, (3, 3), padding=\"same\"))\n",
    "    model.add(Activation(\"relu\"))\n",
    "    model.add(BatchNormalization(axis=2))\n",
    "    model.add(MaxPooling2D(pool_size=(2, 2)))\n",
    "    model.add(Dropout(0.25))\n",
    "\n",
    "    # second CONV => RELU => CONV => RELU => POOL layer set\n",
    "    model.add(Conv2D(64, (3, 3), padding=\"same\"))\n",
    "    model.add(Activation(\"relu\"))\n",
    "    model.add(BatchNormalization(axis=2))\n",
    "    model.add(Conv2D(64, (3, 3), padding=\"same\"))\n",
    "    model.add(Activation(\"relu\"))\n",
    "    model.add(BatchNormalization(axis=2))\n",
    "    model.add(MaxPooling2D(pool_size=(2, 2)))\n",
    "    model.add(Dropout(0.25))\n",
    "\n",
    "    # first (and only) set of FC => RELU layers\n",
    "    model.add(Flatten())\n",
    "    model.add(Dense(512))\n",
    "    model.add(Activation(\"relu\"))\n",
    "    model.add(BatchNormalization())\n",
    "    model.add(Dropout(0.5))\n",
    "\n",
    "    # softmax classifier\n",
    "    model.add(Dense(classes))\n",
    "    model.add(Activation(\"softmax\"))\n",
    "\n",
    "    model.summary()\n",
    "\n",
    "    # return the constructed network architecture\n",
    "    return model"
   ]
  },
  {
   "cell_type": "markdown",
   "metadata": {},
   "source": [
    "### Compilar modelo"
   ]
  },
  {
   "cell_type": "code",
   "execution_count": 18,
   "metadata": {},
   "outputs": [
    {
     "name": "stdout",
     "output_type": "stream",
     "text": [
      "WARNING:tensorflow:From /usr/local/lib/python3.6/site-packages/tensorflow/python/framework/op_def_library.py:263: colocate_with (from tensorflow.python.framework.ops) is deprecated and will be removed in a future version.\n",
      "Instructions for updating:\n",
      "Colocations handled automatically by placer.\n",
      "WARNING:tensorflow:From /usr/local/lib/python3.6/site-packages/keras/backend/tensorflow_backend.py:3445: calling dropout (from tensorflow.python.ops.nn_ops) with keep_prob is deprecated and will be removed in a future version.\n",
      "Instructions for updating:\n",
      "Please use `rate` instead of `keep_prob`. Rate should be set to `rate = 1 - keep_prob`.\n",
      "_________________________________________________________________\n",
      "Layer (type)                 Output Shape              Param #   \n",
      "=================================================================\n",
      "conv2d_1 (Conv2D)            (None, 180, 180, 32)      320       \n",
      "_________________________________________________________________\n",
      "activation_1 (Activation)    (None, 180, 180, 32)      0         \n",
      "_________________________________________________________________\n",
      "batch_normalization_1 (Batch (None, 180, 180, 32)      720       \n",
      "_________________________________________________________________\n",
      "conv2d_2 (Conv2D)            (None, 180, 180, 32)      9248      \n",
      "_________________________________________________________________\n",
      "activation_2 (Activation)    (None, 180, 180, 32)      0         \n",
      "_________________________________________________________________\n",
      "batch_normalization_2 (Batch (None, 180, 180, 32)      720       \n",
      "_________________________________________________________________\n",
      "max_pooling2d_1 (MaxPooling2 (None, 90, 90, 32)        0         \n",
      "_________________________________________________________________\n",
      "dropout_1 (Dropout)          (None, 90, 90, 32)        0         \n",
      "_________________________________________________________________\n",
      "conv2d_3 (Conv2D)            (None, 90, 90, 64)        18496     \n",
      "_________________________________________________________________\n",
      "activation_3 (Activation)    (None, 90, 90, 64)        0         \n",
      "_________________________________________________________________\n",
      "batch_normalization_3 (Batch (None, 90, 90, 64)        360       \n",
      "_________________________________________________________________\n",
      "conv2d_4 (Conv2D)            (None, 90, 90, 64)        36928     \n",
      "_________________________________________________________________\n",
      "activation_4 (Activation)    (None, 90, 90, 64)        0         \n",
      "_________________________________________________________________\n",
      "batch_normalization_4 (Batch (None, 90, 90, 64)        360       \n",
      "_________________________________________________________________\n",
      "max_pooling2d_2 (MaxPooling2 (None, 45, 45, 64)        0         \n",
      "_________________________________________________________________\n",
      "dropout_2 (Dropout)          (None, 45, 45, 64)        0         \n",
      "_________________________________________________________________\n",
      "flatten_1 (Flatten)          (None, 129600)            0         \n",
      "_________________________________________________________________\n",
      "dense_1 (Dense)              (None, 512)               66355712  \n",
      "_________________________________________________________________\n",
      "activation_5 (Activation)    (None, 512)               0         \n",
      "_________________________________________________________________\n",
      "batch_normalization_5 (Batch (None, 512)               2048      \n",
      "_________________________________________________________________\n",
      "dropout_3 (Dropout)          (None, 512)               0         \n",
      "_________________________________________________________________\n",
      "dense_2 (Dense)              (None, 7)                 3591      \n",
      "_________________________________________________________________\n",
      "activation_6 (Activation)    (None, 7)                 0         \n",
      "=================================================================\n",
      "Total params: 66,428,503\n",
      "Trainable params: 66,426,399\n",
      "Non-trainable params: 2,104\n",
      "_________________________________________________________________\n"
     ]
    }
   ],
   "source": [
    "opt = SGD(lr=0.01)\n",
    "model = build_MiniVGG(width=180, height=180, depth=1, classes=num_classes)\n",
    "\n",
    "model.compile(loss='categorical_crossentropy', optimizer=opt, \n",
    "                  metrics=['accuracy'])"
   ]
  },
  {
   "cell_type": "markdown",
   "metadata": {},
   "source": [
    "### Treinar o modelo"
   ]
  },
  {
   "cell_type": "code",
   "execution_count": null,
   "metadata": {},
   "outputs": [
    {
     "name": "stdout",
     "output_type": "stream",
     "text": [
      "WARNING:tensorflow:From /usr/local/lib/python3.6/site-packages/tensorflow/python/ops/math_ops.py:3066: to_int32 (from tensorflow.python.ops.math_ops) is deprecated and will be removed in a future version.\n",
      "Instructions for updating:\n",
      "Use tf.cast instead.\n",
      "Epoch 1/20\n",
      "7/6 [=================================] - 24s 3s/step - loss: 3.2218 - acc: 0.1429 - val_loss: 11.5170 - val_acc: 0.2222\n",
      "\n",
      "Epoch 00001: val_loss improved from inf to 11.51701, saving model to outputs/checkpointer/model.weights.best.minivgg.hdf5\n",
      "Epoch 2/20\n",
      "7/6 [=================================] - 21s 3s/step - loss: 3.0591 - acc: 0.0952 - val_loss: 7.5815 - val_acc: 0.0556\n",
      "\n",
      "Epoch 00002: val_loss improved from 11.51701 to 7.58146, saving model to outputs/checkpointer/model.weights.best.minivgg.hdf5\n",
      "Epoch 3/20\n",
      "7/6 [=================================] - 20s 3s/step - loss: 2.8042 - acc: 0.1111 - val_loss: 11.0531 - val_acc: 0.2222\n",
      "\n",
      "Epoch 00003: val_loss did not improve from 7.58146\n",
      "Epoch 4/20\n",
      "7/6 [=================================] - 20s 3s/step - loss: 2.6865 - acc: 0.1270 - val_loss: 5.9351 - val_acc: 0.0556\n",
      "\n",
      "Epoch 00004: val_loss improved from 7.58146 to 5.93511, saving model to outputs/checkpointer/model.weights.best.minivgg.hdf5\n",
      "Epoch 5/20\n",
      "7/6 [=================================] - 20s 3s/step - loss: 2.1566 - acc: 0.2063 - val_loss: 7.6285 - val_acc: 0.1111\n",
      "\n",
      "Epoch 00005: val_loss did not improve from 5.93511\n",
      "Epoch 6/20\n",
      "7/6 [=================================] - 20s 3s/step - loss: 2.3683 - acc: 0.1587 - val_loss: 5.8472 - val_acc: 0.0556\n",
      "\n",
      "Epoch 00006: val_loss improved from 5.93511 to 5.84723, saving model to outputs/checkpointer/model.weights.best.minivgg.hdf5\n",
      "Epoch 7/20\n",
      "7/6 [=================================] - 21s 3s/step - loss: 2.5378 - acc: 0.1587 - val_loss: 4.9871 - val_acc: 0.1111\n",
      "\n",
      "Epoch 00007: val_loss improved from 5.84723 to 4.98711, saving model to outputs/checkpointer/model.weights.best.minivgg.hdf5\n",
      "Epoch 8/20\n",
      "7/6 [=================================] - 21s 3s/step - loss: 2.5213 - acc: 0.2063 - val_loss: 4.3850 - val_acc: 0.1000\n",
      "\n",
      "Epoch 00008: val_loss improved from 4.98711 to 4.38497, saving model to outputs/checkpointer/model.weights.best.minivgg.hdf5\n",
      "Epoch 9/20\n",
      "7/6 [=================================] - 21s 3s/step - loss: 2.1782 - acc: 0.2420 - val_loss: 8.0603 - val_acc: 0.2778\n",
      "\n",
      "Epoch 00009: val_loss did not improve from 4.38497\n",
      "Epoch 10/20\n",
      "7/6 [=================================] - 21s 3s/step - loss: 2.3811 - acc: 0.1270 - val_loss: 2.6903 - val_acc: 0.2222\n",
      "\n",
      "Epoch 00010: val_loss improved from 4.38497 to 2.69027, saving model to outputs/checkpointer/model.weights.best.minivgg.hdf5\n",
      "Epoch 11/20\n",
      "7/6 [=================================] - 21s 3s/step - loss: 2.3258 - acc: 0.1429 - val_loss: 3.4964 - val_acc: 0.1111\n",
      "\n",
      "Epoch 00011: val_loss did not improve from 2.69027\n",
      "Epoch 12/20\n",
      "7/6 [=================================] - 19s 3s/step - loss: 2.3143 - acc: 0.1905 - val_loss: 3.0618 - val_acc: 0.1111\n",
      "\n",
      "Epoch 00012: val_loss did not improve from 2.69027\n",
      "Epoch 13/20\n",
      "7/6 [=================================] - 21s 3s/step - loss: 2.2304 - acc: 0.2222 - val_loss: 9.9929 - val_acc: 0.0556\n",
      "\n",
      "Epoch 00013: val_loss did not improve from 2.69027\n",
      "Epoch 14/20\n",
      "7/6 [=================================] - 20s 3s/step - loss: 2.4987 - acc: 0.2222 - val_loss: 2.7599 - val_acc: 0.2222\n",
      "\n",
      "Epoch 00014: val_loss did not improve from 2.69027\n",
      "Epoch 15/20\n",
      "7/6 [=================================] - 19s 3s/step - loss: 2.4123 - acc: 0.1587 - val_loss: 4.3630 - val_acc: 0.1000\n",
      "\n",
      "Epoch 00015: val_loss did not improve from 2.69027\n",
      "Epoch 16/20\n",
      "7/6 [=================================] - 19s 3s/step - loss: 2.2255 - acc: 0.2698 - val_loss: 8.1474 - val_acc: 0.2222\n",
      "\n",
      "Epoch 00016: val_loss did not improve from 2.69027\n",
      "Epoch 17/20\n",
      "7/6 [=================================] - 19s 3s/step - loss: 2.3959 - acc: 0.1449 - val_loss: 3.3660 - val_acc: 0.0556\n",
      "\n",
      "Epoch 00017: val_loss did not improve from 2.69027\n",
      "Epoch 18/20\n",
      "7/6 [=================================] - 20s 3s/step - loss: 2.3970 - acc: 0.0952 - val_loss: 2.5166 - val_acc: 0.1111\n",
      "\n",
      "Epoch 00018: val_loss improved from 2.69027 to 2.51657, saving model to outputs/checkpointer/model.weights.best.minivgg.hdf5\n",
      "Epoch 19/20\n",
      "7/6 [=================================] - 20s 3s/step - loss: 2.0156 - acc: 0.1905 - val_loss: 2.3325 - val_acc: 0.1111\n",
      "\n",
      "Epoch 00019: val_loss improved from 2.51657 to 2.33249, saving model to outputs/checkpointer/model.weights.best.minivgg.hdf5\n",
      "Epoch 20/20\n",
      "6/6 [===========================>..] - ETA: 0s - loss: 2.3072 - acc: 0.2037"
     ]
    }
   ],
   "source": [
    "checkpointer = ModelCheckpoint(filepath='outputs/checkpointer/model.weights.best.minivgg.hdf5',\n",
    "                               verbose=1, \n",
    "                               save_best_only=True)\n",
    "\n",
    "hist = model.fit_generator(x_train_batch, epochs=20,\n",
    "                 validation_data=x_valit_batch, callbacks=[checkpointer], \n",
    "                 steps_per_epoch=stepsPerEpoche, validation_steps=validationSteps,\n",
    "                 verbose=1, shuffle=True)"
   ]
  },
  {
   "cell_type": "code",
   "execution_count": null,
   "metadata": {},
   "outputs": [],
   "source": [
    "# plotar loss e accuracy para os datasets 'train' e 'test'\n",
    "plt.style.use(\"ggplot\")\n",
    "plt.figure()\n",
    "plt.plot(np.arange(0, 20), hist.history[\"loss\"], label=\"train_loss\" )\n",
    "plt.plot(np.arange(0, 20), hist.history[\"val_loss\"], label=\"val_loss\")\n",
    "plt.plot(np.arange(0, 20), hist.history[\"acc\" ], label=\"train_acc\" )\n",
    "plt.plot(np.arange(0, 20), hist.history[\"val_acc\"], label=\"val_acc\")\n",
    "plt.title(\"Training Loss and Accuracy\")\n",
    "plt.xlabel(\"Epoch #\")\n",
    "plt.ylabel(\"Loss/Accuracy\")\n",
    "plt.legend()\n",
    "plt.show()"
   ]
  }
 ],
 "metadata": {
  "kernelspec": {
   "display_name": "Python 3",
   "language": "python",
   "name": "python3"
  },
  "language_info": {
   "codemirror_mode": {
    "name": "ipython",
    "version": 3
   },
   "file_extension": ".py",
   "mimetype": "text/x-python",
   "name": "python",
   "nbconvert_exporter": "python",
   "pygments_lexer": "ipython3",
   "version": "3.6.8"
  }
 },
 "nbformat": 4,
 "nbformat_minor": 2
}
