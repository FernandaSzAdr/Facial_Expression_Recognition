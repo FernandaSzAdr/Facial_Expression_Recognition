{
 "cells": [
  {
   "cell_type": "markdown",
   "metadata": {},
   "source": [
    "# Imports"
   ]
  },
  {
   "cell_type": "code",
   "execution_count": 1,
   "metadata": {},
   "outputs": [
    {
     "name": "stderr",
     "output_type": "stream",
     "text": [
      "Using TensorFlow backend.\n"
     ]
    }
   ],
   "source": [
    "# -*- coding: utf-8 -*-\n",
    "\n",
    "from helpers.read_jafee import read_samples_jafee\n",
    "from helpers.read_ck import read_samples_ck\n",
    "\n",
    "import cv2\n",
    "import dlib\n",
    "from imutils import face_utils\n",
    "\n",
    "from keras.callbacks import ModelCheckpoint\n",
    "from keras.layers.convolutional import Conv2D\n",
    "from keras.layers.convolutional import MaxPooling2D\n",
    "from keras.layers.core import Activation\n",
    "from keras.layers.core import Flatten\n",
    "from keras.layers.core import Dense\n",
    "from keras.layers.core import Dropout\n",
    "from keras.layers.normalization import BatchNormalization\n",
    "from keras.models import Sequential\n",
    "from keras.preprocessing.image import ImageDataGenerator, load_img, img_to_array, array_to_img\n",
    "from keras.optimizers import SGD\n",
    "from keras.regularizers import l2\n",
    "from keras.utils.np_utils import to_categorical\n",
    "\n",
    "import matplotlib.pyplot as plt\n",
    "import numpy as np\n",
    "import pandas as pd\n",
    "\n",
    "from sklearn.model_selection import StratifiedShuffleSplit\n",
    "from sklearn.model_selection import train_test_split"
   ]
  },
  {
   "cell_type": "markdown",
   "metadata": {},
   "source": [
    "# Funções"
   ]
  },
  {
   "cell_type": "code",
   "execution_count": 2,
   "metadata": {},
   "outputs": [],
   "source": [
    "def get_faces(files):\n",
    "    faces = []\n",
    "    \n",
    "    for file in files:\n",
    "        image = cv2.imread(file, 0)\n",
    "        image = cv2.GaussianBlur(image, (3, 3), 0)\n",
    "\n",
    "        rects = detector(image, 1)\n",
    "\n",
    "        if len(rects) != 1:\n",
    "            raise ValueError('Número de faces detectadas foi incorreta para a '\n",
    "                             'imagem {}'.format(file))\n",
    "\n",
    "        (x, y, w, h) = face_utils.rect_to_bb(rects[0])\n",
    "        face = image[y:y+h, x:x+w]\n",
    "        face = cv2.resize(face, (180, 180))\n",
    "        \n",
    "        face_array = img_to_array(face)\n",
    "\n",
    "        faces.append(face_array)\n",
    "    \n",
    "    return np.asarray(faces)"
   ]
  },
  {
   "cell_type": "code",
   "execution_count": 3,
   "metadata": {},
   "outputs": [],
   "source": [
    "def read_files(files):\n",
    "    faces = []\n",
    "    \n",
    "    for file in files:\n",
    "        image = cv2.imread(file, 0)\n",
    "        image = cv2.GaussianBlur(image, (3, 3), 0)\n",
    "        \n",
    "        face = cv2.resize(image, (180, 180))\n",
    "        face_array = img_to_array(face)\n",
    "\n",
    "        faces.append(face_array)\n",
    "    \n",
    "    return np.asarray(faces)"
   ]
  },
  {
   "cell_type": "markdown",
   "metadata": {},
   "source": [
    "# Código"
   ]
  },
  {
   "cell_type": "code",
   "execution_count": 4,
   "metadata": {},
   "outputs": [],
   "source": [
    "num_classes = 7\n",
    "batch_size = 9\n",
    "get_face_region = False\n",
    "\n",
    "detector = dlib.get_frontal_face_detector()"
   ]
  },
  {
   "cell_type": "markdown",
   "metadata": {},
   "source": [
    "## Samples"
   ]
  },
  {
   "cell_type": "code",
   "execution_count": 5,
   "metadata": {},
   "outputs": [],
   "source": [
    "paths_jaff, labels_jaff = read_samples_jafee()\n",
    "paths_ck, labels_ck = read_samples_ck()"
   ]
  },
  {
   "cell_type": "code",
   "execution_count": 6,
   "metadata": {},
   "outputs": [],
   "source": [
    "paths = paths_jaff + paths_ck\n",
    "labels = labels_jaff + labels_ck"
   ]
  },
  {
   "cell_type": "code",
   "execution_count": 7,
   "metadata": {},
   "outputs": [],
   "source": [
    "paths = np.asarray(paths)\n",
    "labels = np.asarray(labels)\n",
    "sss = StratifiedShuffleSplit(n_splits=1, test_size=0.3, random_state=0)\n",
    "for train_index, test_index in sss.split(paths, labels):\n",
    "    X_train, X_test = paths[train_index], paths[test_index]\n",
    "    y_train, y_test = labels[train_index], labels[test_index]"
   ]
  },
  {
   "cell_type": "code",
   "execution_count": 8,
   "metadata": {},
   "outputs": [],
   "source": [
    "X_test = X_test[:-4]\n",
    "y_test = y_test[:-4]"
   ]
  },
  {
   "cell_type": "code",
   "execution_count": 9,
   "metadata": {},
   "outputs": [
    {
     "data": {
      "text/plain": [
       "(639, 270)"
      ]
     },
     "execution_count": 9,
     "metadata": {},
     "output_type": "execute_result"
    }
   ],
   "source": [
    "len(X_train), len(X_test)"
   ]
  },
  {
   "cell_type": "markdown",
   "metadata": {},
   "source": [
    "### Normalizar labels"
   ]
  },
  {
   "cell_type": "code",
   "execution_count": 10,
   "metadata": {},
   "outputs": [],
   "source": [
    "y_train = to_categorical(y_train, num_classes)\n",
    "y_test = to_categorical(y_test, num_classes)"
   ]
  },
  {
   "cell_type": "markdown",
   "metadata": {},
   "source": [
    "### Capturar regiões da face"
   ]
  },
  {
   "cell_type": "code",
   "execution_count": 11,
   "metadata": {},
   "outputs": [],
   "source": [
    "if get_face_region:\n",
    "    X_train = get_faces(X_train)\n",
    "    X_test = get_faces(X_test)\n",
    "else:\n",
    "    X_train = read_files(X_train)\n",
    "    X_test = read_files(X_test)"
   ]
  },
  {
   "cell_type": "code",
   "execution_count": 12,
   "metadata": {},
   "outputs": [],
   "source": [
    "x_train = X_train.reshape(X_train.shape[0], 180, 180, 1)\n",
    "x_test = X_test.reshape(X_test.shape[0], 180, 180, 1)"
   ]
  },
  {
   "cell_type": "code",
   "execution_count": 13,
   "metadata": {},
   "outputs": [],
   "source": [
    "x_train = x_train.astype('float32')\n",
    "x_test = x_test.astype('float32')"
   ]
  },
  {
   "cell_type": "markdown",
   "metadata": {},
   "source": [
    "### Image Data Generator"
   ]
  },
  {
   "cell_type": "code",
   "execution_count": 14,
   "metadata": {},
   "outputs": [
    {
     "name": "stderr",
     "output_type": "stream",
     "text": [
      "/usr/local/lib/python3.6/site-packages/keras_preprocessing/image/image_data_generator.py:348: UserWarning: This ImageDataGenerator specifies `featurewise_std_normalization`, which overrides setting of `featurewise_center`.\n",
      "  warnings.warn('This ImageDataGenerator specifies '\n"
     ]
    }
   ],
   "source": [
    "datagen = ImageDataGenerator(width_shift_range=0.1,\n",
    "                             height_shift_range=0.1,\n",
    "                             shear_range=0.2,\n",
    "                             rotation_range=20,\n",
    "                             vertical_flip=True,\n",
    "                             validation_split=0.2,\n",
    "                             featurewise_std_normalization=True,\n",
    "                             fill_mode='nearest')\n",
    "\n",
    "datagen.fit(x_train)"
   ]
  },
  {
   "cell_type": "code",
   "execution_count": 15,
   "metadata": {},
   "outputs": [
    {
     "data": {
      "image/png": "[encoded data removed]",
      "text/plain": [
       "<Figure size 432x288 with 9 Axes>"
      ]
     },
     "metadata": {
      "needs_background": "light"
     },
     "output_type": "display_data"
    }
   ],
   "source": [
    "for X_batch, y_batch in datagen.flow(x_train, y_train, batch_size=batch_size):\n",
    "    # create a grid of 3x3 images\n",
    "    for i in range(0, 9):\n",
    "        plt.subplot(330 + 1 + i)\n",
    "        plt.imshow(X_batch[i].reshape(180, 180), cmap=plt.get_cmap('gray'))\n",
    "    # show the plot\n",
    "    plt.show()\n",
    "    break"
   ]
  },
  {
   "cell_type": "code",
   "execution_count": 16,
   "metadata": {},
   "outputs": [],
   "source": [
    "x_train_batch = datagen.flow(x=x_train, y=y_train, batch_size=batch_size,\n",
    "                             subset='training')\n",
    "x_valit_batch = datagen.flow(x=x_train, y=y_train, batch_size=batch_size,\n",
    "                             subset='validation')\n",
    "\n",
    "stepsPerEpoche = len(x_train_batch)/batch_size\n",
    "validationSteps = len(x_valit_batch)/batch_size"
   ]
  },
  {
   "cell_type": "markdown",
   "metadata": {},
   "source": [
    "## Modelo"
   ]
  },
  {
   "cell_type": "markdown",
   "metadata": {},
   "source": [
    "### MiniVGG"
   ]
  },
  {
   "cell_type": "code",
   "execution_count": 20,
   "metadata": {},
   "outputs": [],
   "source": [
    "def build_MiniVGG(width, height, depth, classes):\n",
    "  # initialize the model\n",
    "    model = Sequential()\n",
    "    inputShape = (height, width, depth)# first CONV => RELU => CONV => RELU => POOL layer set\n",
    "    model.add(Conv2D(32, (3, 3), padding=\"same\",\n",
    "    input_shape=inputShape))\n",
    "    model.add(Activation(\"relu\"))\n",
    "    model.add(BatchNormalization(axis=2))\n",
    "    model.add(Conv2D(32, (3, 3), padding=\"same\"))\n",
    "    model.add(Activation(\"relu\"))\n",
    "    model.add(BatchNormalization(axis=2))\n",
    "    model.add(MaxPooling2D(pool_size=(2, 2)))\n",
    "    model.add(Dropout(0.25))\n",
    "\n",
    "    # second CONV => RELU => CONV => RELU => POOL layer set\n",
    "    model.add(Conv2D(64, (3, 3), padding=\"same\"))\n",
    "    model.add(Activation(\"relu\"))\n",
    "    model.add(BatchNormalization(axis=2))\n",
    "    model.add(Conv2D(64, (3, 3), padding=\"same\"))\n",
    "    model.add(Activation(\"relu\"))\n",
    "    model.add(BatchNormalization(axis=2))\n",
    "    model.add(MaxPooling2D(pool_size=(2, 2)))\n",
    "    model.add(Dropout(0.25))\n",
    "\n",
    "    # first (and only) set of FC => RELU layers\n",
    "    model.add(Flatten())\n",
    "    model.add(Dense(512))\n",
    "    model.add(Activation(\"relu\"))\n",
    "    model.add(BatchNormalization())\n",
    "    model.add(Dropout(0.5))\n",
    "\n",
    "    # softmax classifier\n",
    "    model.add(Dense(classes))\n",
    "    model.add(Activation(\"softmax\"))\n",
    "\n",
    "    # return the constructed network architecture\n",
    "    return model"
   ]
  },
  {
   "cell_type": "markdown",
   "metadata": {},
   "source": [
    "### Proposto"
   ]
  },
  {
   "cell_type": "code",
   "execution_count": 17,
   "metadata": {},
   "outputs": [],
   "source": [
    "def proposto1(width, height, depth, classes):\n",
    "    model = Sequential()\n",
    "    \n",
    "    inputShape = (height, width, depth)\n",
    "    model.add(Conv2D(64, (3, 3), padding=\"same\",\n",
    "                     input_shape=inputShape,\n",
    "                     activation=\"relu\",\n",
    "                     kernel_regularizer=l2(1e-5),\n",
    "                     bias_regularizer=l2(1e-5)))\n",
    "    model.add(Dropout(0.25))\n",
    "    \n",
    "    model.add(Conv2D(64, (3, 3), padding=\"same\",\n",
    "                     activation=\"relu\",\n",
    "                     kernel_regularizer=l2(1e-5),\n",
    "                     bias_regularizer=l2(1e-5)))\n",
    "    model.add(BatchNormalization(axis=2))\n",
    "    \n",
    "    model.add(MaxPooling2D(pool_size=(2, 2)))\n",
    "    model.add(Dropout(0.25))\n",
    "    \n",
    "    model.add(Conv2D(128, (3, 3), padding=\"same\",\n",
    "                    activation=\"relu\",\n",
    "                    kernel_regularizer=l2(1e-5),\n",
    "                    bias_regularizer=l2(1e-5)))\n",
    "    model.add(BatchNormalization(axis=2))\n",
    "    \n",
    "    model.add(MaxPooling2D(pool_size=(2, 2)))\n",
    "    model.add(Dropout(0.25))\n",
    "    \n",
    "    model.add(Flatten())\n",
    "    model.add(Dense(512, activation=\"relu\",\n",
    "                    kernel_regularizer=l2(1e-5),\n",
    "                    bias_regularizer=l2(1e-5)))\n",
    "    model.add(BatchNormalization())\n",
    "    model.add(Dense(1024, activation=\"relu\",\n",
    "                    kernel_regularizer=l2(1e-5),\n",
    "                    bias_regularizer=l2(1e-5)))\n",
    "    model.add(BatchNormalization())\n",
    "    model.add(Dropout(0.5))\n",
    "\n",
    "    # softmax classifier\n",
    "    model.add(Dense(classes))\n",
    "    model.add(Activation(\"softmax\"))\n",
    "\n",
    "    # return the constructed network architecture\n",
    "    return model"
   ]
  },
  {
   "cell_type": "markdown",
   "metadata": {},
   "source": [
    "### Compilar modelo"
   ]
  },
  {
   "cell_type": "code",
   "execution_count": 18,
   "metadata": {},
   "outputs": [
    {
     "name": "stdout",
     "output_type": "stream",
     "text": [
      "WARNING:tensorflow:From /usr/local/lib/python3.6/site-packages/tensorflow/python/framework/op_def_library.py:263: colocate_with (from tensorflow.python.framework.ops) is deprecated and will be removed in a future version.\n",
      "Instructions for updating:\n",
      "Colocations handled automatically by placer.\n",
      "WARNING:tensorflow:From /usr/local/lib/python3.6/site-packages/keras/backend/tensorflow_backend.py:3445: calling dropout (from tensorflow.python.ops.nn_ops) with keep_prob is deprecated and will be removed in a future version.\n",
      "Instructions for updating:\n",
      "Please use `rate` instead of `keep_prob`. Rate should be set to `rate = 1 - keep_prob`.\n"
     ]
    }
   ],
   "source": [
    "opt = SGD(lr=0.01, momentum=0.9, decay=0.001, nesterov=True)\n",
    "# model = build_MiniVGG(width=180, height=180, depth=1, classes=num_classes)\n",
    "model = proposto1(width=180, height=180, depth=1, classes=num_classes)\n",
    "\n",
    "model.compile(loss='categorical_crossentropy', optimizer=opt, \n",
    "                  metrics=['accuracy'])"
   ]
  },
  {
   "cell_type": "markdown",
   "metadata": {},
   "source": [
    "### Treinar o modelo"
   ]
  },
  {
   "cell_type": "code",
   "execution_count": null,
   "metadata": {},
   "outputs": [
    {
     "name": "stdout",
     "output_type": "stream",
     "text": [
      "WARNING:tensorflow:From /usr/local/lib/python3.6/site-packages/tensorflow/python/ops/math_ops.py:3066: to_int32 (from tensorflow.python.ops.math_ops) is deprecated and will be removed in a future version.\n",
      "Instructions for updating:\n",
      "Use tf.cast instead.\n",
      "Epoch 1/20\n",
      "7/6 [=================================] - 56s 8s/step - loss: 3.9828 - acc: 0.1746 - val_loss: 14.3799 - val_acc: 0.1111\n",
      "\n",
      "Epoch 00001: val_loss improved from inf to 14.37986, saving model to outputs/checkpointer/model.weights.best.proposto1.hdf5\n",
      "Epoch 2/20\n",
      "7/6 [=================================] - 41s 6s/step - loss: 4.6211 - acc: 0.1905 - val_loss: 11.3381 - val_acc: 0.2222\n",
      "\n",
      "Epoch 00002: val_loss improved from 14.37986 to 11.33813, saving model to outputs/checkpointer/model.weights.best.proposto1.hdf5\n",
      "Epoch 3/20\n",
      "7/6 [=================================] - 41s 6s/step - loss: 6.4907 - acc: 0.1746 - val_loss: 12.9692 - val_acc: 0.1667\n",
      "\n",
      "Epoch 00003: val_loss did not improve from 11.33813\n",
      "Epoch 4/20\n",
      "7/6 [=================================] - 42s 6s/step - loss: 8.7210 - acc: 0.1746 - val_loss: 14.8439 - val_acc: 0.0556\n",
      "\n",
      "Epoch 00004: val_loss did not improve from 11.33813\n",
      "Epoch 5/20\n",
      "7/6 [=================================] - 40s 6s/step - loss: 7.4114 - acc: 0.1746 - val_loss: 11.0516 - val_acc: 0.2222\n",
      "\n",
      "Epoch 00005: val_loss improved from 11.33813 to 11.05165, saving model to outputs/checkpointer/model.weights.best.proposto1.hdf5\n",
      "Epoch 6/20\n",
      "7/6 [=================================] - 43s 6s/step - loss: 8.2440 - acc: 0.1111 - val_loss: 13.1951 - val_acc: 0.0556\n",
      "\n",
      "Epoch 00006: val_loss did not improve from 11.05165\n",
      "Epoch 7/20\n",
      "7/6 [=================================] - 42s 6s/step - loss: 7.7063 - acc: 0.1270 - val_loss: 8.0626 - val_acc: 0.2778\n",
      "\n",
      "Epoch 00007: val_loss improved from 11.05165 to 8.06258, saving model to outputs/checkpointer/model.weights.best.proposto1.hdf5\n",
      "Epoch 8/20\n",
      "7/6 [=================================] - 42s 6s/step - loss: 9.1437 - acc: 0.1429 - val_loss: 11.7806 - val_acc: 0.1000\n",
      "\n",
      "Epoch 00008: val_loss did not improve from 8.06258\n",
      "Epoch 9/20\n",
      "5/6 [======================>.......] - ETA: 7s - loss: 9.6048 - acc: 0.1556  "
     ]
    }
   ],
   "source": [
    "checkpointer = ModelCheckpoint(filepath='outputs/checkpointer/model.weights.best.proposto1.hdf5',\n",
    "                               verbose=1, \n",
    "                               save_best_only=True)\n",
    "\n",
    "hist = model.fit_generator(x_train_batch, epochs=20,\n",
    "                 validation_data=x_valit_batch, callbacks=[checkpointer], \n",
    "                 steps_per_epoch=stepsPerEpoche, validation_steps=validationSteps,\n",
    "                 verbose=1, shuffle=True)"
   ]
  },
  {
   "cell_type": "code",
   "execution_count": 1,
   "metadata": {},
   "outputs": [
    {
     "ename": "NameError",
     "evalue": "name 'plt' is not defined",
     "output_type": "error",
     "traceback": [
      "\u001b[0;31m---------------------------------------------------------------------------\u001b[0m",
      "\u001b[0;31mNameError\u001b[0m                                 Traceback (most recent call last)",
      "\u001b[0;32m<ipython-input-1-f215b775f2b4>\u001b[0m in \u001b[0;36m<module>\u001b[0;34m\u001b[0m\n\u001b[1;32m      1\u001b[0m \u001b[0;31m# plotar loss e accuracy para os datasets 'train' e 'test'\u001b[0m\u001b[0;34m\u001b[0m\u001b[0;34m\u001b[0m\u001b[0;34m\u001b[0m\u001b[0m\n\u001b[0;32m----> 2\u001b[0;31m \u001b[0mplt\u001b[0m\u001b[0;34m.\u001b[0m\u001b[0mstyle\u001b[0m\u001b[0;34m.\u001b[0m\u001b[0muse\u001b[0m\u001b[0;34m(\u001b[0m\u001b[0;34m\"ggplot\"\u001b[0m\u001b[0;34m)\u001b[0m\u001b[0;34m\u001b[0m\u001b[0;34m\u001b[0m\u001b[0m\n\u001b[0m\u001b[1;32m      3\u001b[0m \u001b[0mplt\u001b[0m\u001b[0;34m.\u001b[0m\u001b[0mfigure\u001b[0m\u001b[0;34m(\u001b[0m\u001b[0;34m)\u001b[0m\u001b[0;34m\u001b[0m\u001b[0;34m\u001b[0m\u001b[0m\n\u001b[1;32m      4\u001b[0m \u001b[0mplt\u001b[0m\u001b[0;34m.\u001b[0m\u001b[0mplot\u001b[0m\u001b[0;34m(\u001b[0m\u001b[0mnp\u001b[0m\u001b[0;34m.\u001b[0m\u001b[0marange\u001b[0m\u001b[0;34m(\u001b[0m\u001b[0;36m0\u001b[0m\u001b[0;34m,\u001b[0m \u001b[0;36m20\u001b[0m\u001b[0;34m)\u001b[0m\u001b[0;34m,\u001b[0m \u001b[0mhist\u001b[0m\u001b[0;34m.\u001b[0m\u001b[0mhistory\u001b[0m\u001b[0;34m[\u001b[0m\u001b[0;34m\"loss\"\u001b[0m\u001b[0;34m]\u001b[0m\u001b[0;34m,\u001b[0m \u001b[0mlabel\u001b[0m\u001b[0;34m=\u001b[0m\u001b[0;34m\"train_loss\"\u001b[0m \u001b[0;34m)\u001b[0m\u001b[0;34m\u001b[0m\u001b[0;34m\u001b[0m\u001b[0m\n\u001b[1;32m      5\u001b[0m \u001b[0mplt\u001b[0m\u001b[0;34m.\u001b[0m\u001b[0mplot\u001b[0m\u001b[0;34m(\u001b[0m\u001b[0mnp\u001b[0m\u001b[0;34m.\u001b[0m\u001b[0marange\u001b[0m\u001b[0;34m(\u001b[0m\u001b[0;36m0\u001b[0m\u001b[0;34m,\u001b[0m \u001b[0;36m20\u001b[0m\u001b[0;34m)\u001b[0m\u001b[0;34m,\u001b[0m \u001b[0mhist\u001b[0m\u001b[0;34m.\u001b[0m\u001b[0mhistory\u001b[0m\u001b[0;34m[\u001b[0m\u001b[0;34m\"val_loss\"\u001b[0m\u001b[0;34m]\u001b[0m\u001b[0;34m,\u001b[0m \u001b[0mlabel\u001b[0m\u001b[0;34m=\u001b[0m\u001b[0;34m\"val_loss\"\u001b[0m\u001b[0;34m)\u001b[0m\u001b[0;34m\u001b[0m\u001b[0;34m\u001b[0m\u001b[0m\n",
      "\u001b[0;31mNameError\u001b[0m: name 'plt' is not defined"
     ]
    }
   ],
   "source": [
    "# plotar loss e accuracy para os datasets 'train' e 'test'\n",
    "plt.style.use(\"ggplot\")\n",
    "plt.figure()\n",
    "plt.plot(np.arange(0, 20), hist.history[\"loss\"], label=\"train_loss\" )\n",
    "plt.plot(np.arange(0, 20), hist.history[\"val_loss\"], label=\"val_loss\")\n",
    "plt.plot(np.arange(0, 20), hist.history[\"acc\" ], label=\"train_acc\" )\n",
    "plt.plot(np.arange(0, 20), hist.history[\"val_acc\"], label=\"val_acc\")\n",
    "plt.title(\"Training Loss and Accuracy\")\n",
    "plt.xlabel(\"Epoch #\")\n",
    "plt.ylabel(\"Loss/Accuracy\")\n",
    "plt.legend()\n",
    "plt.show()"
   ]
  }
 ],
 "metadata": {
  "kernelspec": {
   "display_name": "Python 3",
   "language": "python",
   "name": "python3"
  },
  "language_info": {
   "codemirror_mode": {
    "name": "ipython",
    "version": 3
   },
   "file_extension": ".py",
   "mimetype": "text/x-python",
   "name": "python",
   "nbconvert_exporter": "python",
   "pygments_lexer": "ipython3",
   "version": "3.6.8"
  }
 },
 "nbformat": 4,
 "nbformat_minor": 2
}
