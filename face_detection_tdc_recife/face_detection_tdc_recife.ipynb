{
  "nbformat": 4,
  "nbformat_minor": 0,
  "metadata": {
    "colab": {
      "name": "face_detection_tdc_recife",
      "version": "0.3.2",
      "provenance": [],
      "collapsed_sections": []
    },
    "kernelspec": {
      "name": "python3",
      "display_name": "Python 3"
    }
  },
  "cells": [
    {
      "cell_type": "markdown",
      "metadata": {
        "id": "atZva6hzh99B",
        "colab_type": "text"
      },
      "source": [
        "# Imports"
      ]
    },
    {
      "cell_type": "code",
      "metadata": {
        "id": "tnu1Nf0Ph8iQ",
        "colab_type": "code",
        "colab": {}
      },
      "source": [
        "import dlib\n",
        "from imutils import face_utils"
      ],
      "execution_count": 0,
      "outputs": []
    },
    {
      "cell_type": "markdown",
      "metadata": {
        "id": "1g6k_-r8iAj8",
        "colab_type": "text"
      },
      "source": [
        "# Utilizar a câmera"
      ]
    },
    {
      "cell_type": "code",
      "metadata": {
        "id": "ZZ_vhorAg0d7",
        "colab_type": "code",
        "colab": {}
      },
      "source": [
        "from IPython.display import display, Javascript\n",
        "from google.colab.output import eval_js\n",
        "from base64 import b64decode\n",
        "\n",
        "def take_photo(filename='photo.jpg', quality=0.8):\n",
        "  js = Javascript('''\n",
        "    async function takePhoto(quality) {\n",
        "      const div = document.createElement('div');\n",
        "      const capture = document.createElement('button');\n",
        "      capture.textContent = 'Capture';\n",
        "      div.appendChild(capture);\n",
        "\n",
        "      const video = document.createElement('video');\n",
        "      video.style.display = 'block';\n",
        "      const stream = await navigator.mediaDevices.getUserMedia({video: true});\n",
        "\n",
        "      document.body.appendChild(div);\n",
        "      div.appendChild(video);\n",
        "      video.srcObject = stream;\n",
        "      await video.play();\n",
        "\n",
        "      // Resize the output to fit the video element.\n",
        "      google.colab.output.setIframeHeight(document.documentElement.scrollHeight, true);\n",
        "\n",
        "      // Wait for Capture to be clicked.\n",
        "      await new Promise((resolve) => capture.onclick = resolve);\n",
        "\n",
        "      const canvas = document.createElement('canvas');\n",
        "      canvas.width = video.videoWidth;\n",
        "      canvas.height = video.videoHeight;\n",
        "      canvas.getContext('2d').drawImage(video, 0, 0);\n",
        "      stream.getVideoTracks()[0].stop();\n",
        "      div.remove();\n",
        "      return canvas.toDataURL('image/jpeg', quality);\n",
        "    }\n",
        "    ''')\n",
        "  display(js)\n",
        "  data = eval_js('takePhoto({})'.format(quality))\n",
        "  binary = b64decode(data.split(',')[1])\n",
        "  with open(filename, 'wb') as f:\n",
        "    f.write(binary)\n",
        "  return filename"
      ],
      "execution_count": 0,
      "outputs": []
    },
    {
      "cell_type": "markdown",
      "metadata": {
        "id": "gK21e01oiMqN",
        "colab_type": "text"
      },
      "source": [
        "# Códigos!!!\n"
      ]
    },
    {
      "cell_type": "markdown",
      "metadata": {
        "id": "hzCg6HBviQa0",
        "colab_type": "text"
      },
      "source": [
        "## Dlib detecção de rosto:\n"
      ]
    },
    {
      "cell_type": "code",
      "metadata": {
        "id": "QhGzxQ_tiK93",
        "colab_type": "code",
        "colab": {}
      },
      "source": [
        "def face_detection(frameDlibHogSmall):\n",
        "  dnnFaceDetector = dlib.cnn_face_detection_model_v1(\"./mmod_human_face_detector.dat\")\n",
        "  faceRects = dnnFaceDetector(frameDlibHogSmall, 0)\n",
        "  for faceRect in faceRects:\n",
        "      x1 = faceRect.rect.left()\n",
        "      y1 = faceRect.rect.top()\n",
        "      x2 = faceRect.rect.right()\n",
        "      y2 = faceRect.rect.bottom()\n",
        "  \n",
        "  return "
      ],
      "execution_count": 0,
      "outputs": []
    },
    {
      "cell_type": "markdown",
      "metadata": {
        "id": "EpuQ3kQBiERC",
        "colab_type": "text"
      },
      "source": [
        "## Capturar imagem da câmera:\n"
      ]
    },
    {
      "cell_type": "code",
      "metadata": {
        "id": "WLVkFSb9g0bb",
        "colab_type": "code",
        "colab": {}
      },
      "source": [
        "from IPython.display import Image\n",
        "try:\n",
        "  filename = take_photo()\n",
        "  print('Saved to {}'.format(filename))\n",
        "  \n",
        "  \n",
        "  display(Image(filename))\n",
        "except Exception as err:\n",
        "  print(str(err))"
      ],
      "execution_count": 0,
      "outputs": []
    }
  ]
}